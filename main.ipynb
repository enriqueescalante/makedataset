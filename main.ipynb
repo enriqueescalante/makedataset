{
 "cells": [
  {
   "cell_type": "markdown",
   "id": "ce95bb02",
   "metadata": {},
   "source": [
    "# MakeDataset"
   ]
  },
  {
   "cell_type": "markdown",
   "id": "fbbe04cd",
   "metadata": {},
   "source": [
    "The orbifolder is a software package developed to facilitate the construction and analysis of heterotic orbifold models. It provides a user friendly interface for constructing orbifold models and calculate several fenomenologically interesting features of them. Altough it is robust and handy, the approach followed to determine a less redundant might be a better option for machine learning approaches.\n",
    " \n",
    "The space group $S$ of a six-dimensional (6D) orbifold $R^6/S$ leading to $ N=1$ supersymmetric\n",
    "effective field theories at low energies can be specified by up to two generators,\n",
    "$\\vartheta,\\omega$, of the orbifold rotational subgroup, \n",
    "and six basis vectors $e_\\alpha$, $\\alpha=1,\\ldots,6$, of the lattice of a $T^6$ torus.\n",
    "An arbitrary element of $S$ can be written as $(\\vartheta^k\\omega^\\ell, m_\\alpha e_\\alpha)\\in S$,\n",
    "where $0\\leq k<N$ and $0\\leq \\ell<M$, $k,\\ell\\in N$, such that $N$ and $M$ denote the\n",
    "orders of $\\vartheta$ and $\\omega$, respectively. building block to obtain a heterotic orbifold is the embedding of S into the 16D gauge degrees of freedom associated with $E_8×E_8$. \n",
    "Orbifolds have curvature singularities also known as fixed points, since they are left invariant \n",
    "under space group elements. Each singularity can be associated with a conjugacy class of $S$ \n",
    "exhibiting nontrivial rotational action. This implies that the number of fixed points $n_\\mathrm{fp}$\n",
    "depends on $S$, i.e. $n_\\mathrm{fp}=n_\\mathrm{fp}(S)$. In order to better identify the fixed points, it is \n",
    "customary to split the conjugacy-class representatives into sectors labeled by\n",
    "the pairs $(k,\\ell)$. A fixed point $x_f\\in R^6$ is said to belong to the $(k,\\ell)$ \n",
    "sector if there exists a conjugacy-class representative $(\\vartheta^k\\omega^\\ell, m_\\alpha e_\\alpha)\\in S$, \n",
    "such that\n",
    "\\begin{equation}\n",
    " (\\vartheta^k\\omega^\\ell, m_\\alpha e_\\alpha) x_f ~=~\n",
    "    \\vartheta^k\\omega^\\ell x_f + m_\\alpha e_\\alpha ~\\stackrel{!}{=}~ x_f\\,.\n",
    "\\end{equation}\n",
    "\n",
    "The next building block to obtain a heterotic orbifold is the embedding of $S$ into the 16D gauge degrees\n",
    "of freedom associated with $E_8×E_8$. Both the six toroidal shifts $e_\\alpha$ and the two \n",
    "rotational generators of $S$ can be embedded as 16D rational gauge shift vectors. In our \n",
    "conventions, the gauge embedding is given by \n",
    "\\begin{equation}\n",
    "\\label{eq:gaugeEmbedding}\n",
    " e_\\alpha ~\\hookrightarrow~ V_\\alpha \\quad\\text{with }\\alpha=1,\\ldots,6\\,,\\qquad \n",
    " \\vartheta~\\hookrightarrow~ V_7\\qquad\\text{and}\\qquad \n",
    " \\omega   ~\\hookrightarrow~ V_8\\,.\n",
    "\\end{equation}\n",
    "\n",
    "\n",
    "\n",
    "Both the six toroidal shifts and the two rotational generators of S can be embedded as 16D rational gauge shift vectors. All together the model can thus be described with eight 16D vectors. \n",
    "\n",
    "One can focus only on the massless states because the fundamental scale of these \n",
    "constructions is the string scale, which is close to the Planck scale and hence\n",
    "decoupled from observable physics.\n",
    "\n",
    "The massless matter spectrum is given by the closed strings that are invariant \n",
    "under the orbifold. They can be split into i) strings that are closed (and massless)\n",
    "prior to the orbifold action, known as untwisted strings, and ii) strings that\n",
    "close only due to the action of the orbifold, called twisted strings. In fact,\n",
    "the representatives of the conjugacy classes of $S$ indicate how strings transform\n",
    "at the fixed points and, thus, are used to establish the boundary conditions of the \n",
    "strings to close. In this scheme, untwisted strings are associated with the \n",
    "$(k,\\ell)=(0,0)$ sector, as neither $\\vartheta$ nor $\\omega$ twists the strings \n",
    "to close in this case. Twisted strings arise from the $(k,\\ell)\\neq(0,0)$ twisted\n",
    "sectors. We focus here on untwisted strings because they yield the gauge group,\n",
    "which is considered in this work to be the key property of the model.\\footnote{Notice \n",
    "that this is an oversimplification, whose effects must be considered when evaluating\n",
    "our results.}\n",
    "\n",
    "Untwisted matter states carry the gauge momenta $p$ associated with the original \n",
    "$E_8\\times E_8$ gauge bosons of the heterotic string in 10D that are left invariant \n",
    "under the gauge embedding of the orbifold. The unbroken gauge group $G_\\mathrm{4D}$ can be obtained from \n",
    "requesting that the momenta $p$ be invariant under the gauge shifts $V_A$, which\n",
    "amounts to demanding that\n",
    "\\begin{equation}\n",
    "\\label{eq:G4Dcondition}\n",
    "  p\\cdot V_A ~=~ 0\\mod 1\\quad\\forall A \\quad\\iff\\quad \n",
    "  p^{(1)}\\cdot V_A^{(1)} ~=~ 0\\mod 1 ~=~ p^{(2)}\\cdot V_A^{(2)}\\qquad \\forall A\\,,\n",
    "\\end{equation}\n",
    "where, for future convenience, we have separated the two $E_8$ components, such \n",
    "that each $p^{(a)}$, $a=1,2$, and $N_A V_A^{(a)}$, $A=1,\\ldots,8$, are elements \n",
    "of the eight-dimensional (8D) root lattice of $E_8$. The $E_8$ momenta can be written as\n",
    "\\begin{equation}\n",
    "\\label{eq:E8momenta}\n",
    " p^{(a)} ~\\in~ \\left\\{\n",
    " \\begin{array}{lcl}\n",
    " (\\underline{\\pm1,\\pm1,0^6})\\,,      && \\\\\n",
    " \\left( (\\pm\\frac{1}{2})^8\\right)\\,, && \\text{even # of $+$}\\,,\n",
    " \\end{array}\n",
    " \\right.\n",
    "\\end{equation}\n",
    "where the power in the entries denotes repetition, and the underscore \n",
    "stands for all possible permutations. \n",
    "\n",
    "The subset $I_0$ of the momenta satisfying the modular conditions shown above\n",
    "builds $G_\\mathrm{4D}$, and clearly depends on the gauge embedding vectors $V_A$. It will\n",
    "be convenient to define the subgroups $G_\\mathrm{4D}^{(a)}$, such that \n",
    "$G_\\mathrm{4D}=G_\\mathrm{4D}^{(1)}\\times G_\\mathrm{4D}^{(2)}$, which are built by the invariant \n",
    "$E_8$ simple roots in the subsets\n",
    "\\begin{equation}\n",
    "\\label{eq:I0}\n",
    "   I_0^{(a)}~:=~\\left\\{ p^{(a)}  ~\\big|~ V_A^{(a)}\\cdot p^{(a)}~=~0\\mod 1, A=1,\\ldots,8\\right\\}\\,,\\qquad a=1,2\\,.\n",
    "\\end{equation}\n",
    "Note that the same $G_\\mathrm{4D}^{(a)}$\n",
    "can be generated for different (although equivalent) sets $I_0^{(a)}$.\n",
    "This is related to the symmetries of the $E_8$ root lattice, which include\n",
    "$E_8$ Weyl rotations and lattice translations, among other transformations. \n",
    "Modding out these symmetries is not feasible at the moment. However, observe that \n",
    "the number of invariant roots $N_0^{(a)}:=\\big|I_0^{(a)}\\big|$ must be an invariant \n",
    "under all symmetry transformations, and can hence be used as a characteristic feature\n",
    "of a heterotic orbifold model.\n",
    "\n",
    "Interestingly, at the fixed points of the twisted sectors, the closed \n",
    "strings related with the gauge bosons do not perceive the whole action \n",
    "of the orbifold, but only its local action. This is encoded in the \n",
    "conjugacy-class representative \n",
    "$(\\vartheta^k\\omega^\\ell, m_\\alpha e_\\alpha)\\in S$ that defines each fixed \n",
    "point. Following the embedding presented above, we see that the shift\n",
    "vector $V_\\mathrm{local}$ associated with the localized action of\n",
    "the orbifold at such fixed point is given by\n",
    "\\begin{equation}\n",
    "\\label{eq:gaugeEmbeddingTwisted}\n",
    " (\\vartheta^k\\omega^\\ell, m_\\alpha e_\\alpha)~\\hookrightarrow~\n",
    " V_\\mathrm{local}:=k V_7 + \\ell V_8 + m_\\alpha V_\\alpha\\,.\n",
    "\\end{equation}\n",
    "Hence, the gauge symmetry group $G_{\\mathrm{local},n}$ realized at the \n",
    "$n$-th singularity is built by the momenta in the sets\n",
    "\\begin{equation}\n",
    "\\label{eq:In}\n",
    "   I_n^{(a)}~:=~\\left\\{ p^{(a)} ~\\big|~ V_{\\mathrm{local},n}^{(a)}\\cdot p^{(a)}~=~0\\mod 1 \\right\\}\\,,\\qquad a=1,2\\,,\\quad n=1,\\ldots,n_\\mathrm{fp}\\,.\n",
    "\\end{equation}\n",
    "As for the gauge group $G_\\mathrm{4D}$ associated with the untwisted sector, the cardinalities \n",
    "$N_n^{(a)}:=\\big|I_n^{(a)}\\big|$ are invariant properties of the local gauge \n",
    "group $G_{\\mathrm{local},n}$.\n",
    "\n",
    "`MakeDataSet`is an automatized routine to determine the numbers $N_n^{(a)}$ and, as it showed up to be useful it also implements a subroutine, calling the orbifolder, to get the number of U(1)'s and packs it up in a .csv file.  \n",
    "\n",
    "It is important to emphasize that, for MakeDataSet to work properly, the orbifolder has to be previously installed and the file \"orbifolder\" must be compiled and copied to the folder containing \"MakeDataSet.py\"  "
   ]
  },
  {
   "cell_type": "markdown",
   "id": "0cfd0f8d",
   "metadata": {},
   "source": [
    "## Parameters "
   ]
  },
  {
   "cell_type": "markdown",
   "id": "192045c3",
   "metadata": {},
   "source": [
    "**name_models_from_orbifolder** \n",
    "\n",
    "name_models_from_orbifolder is to be fed with the file as generated from the orbifolder. It is important to check the file to see the separator chosen in the orbifolder. The separator can be selected by changing it in the variable\n",
    "separa in the MakeDataSet.py file.\n",
    "\n",
    "`name_models_from_orbifolder = \"Z6_models_SP_3.txt\"`\n",
    "\n",
    "**name_models_writted** \n",
    "\n",
    "name_models_writted is a dummy file generated prior to formating all the information in the .csv format\n",
    "\n",
    "`name_models_writted = \"modeltest.txt\"`\n",
    "\n",
    "**name_geometry**\n",
    "\n",
    "name_geometry is to be chosen according to the geometry that was used in the orbifolder to generate the file name_models_from_orbifolder. We include a geometry folder to include all the geometries that can be taken.\n",
    "\n",
    "`name_geometry = \"./Geometry/Geometry_Z6-I_2_1.txt\"`\n",
    "\n",
    "**name_dataset**\n",
    "\n",
    "name_dataset is reserved for the name of the output file generated by `MakeDataset` \n",
    "\n",
    "`name_dataset = \"Dataset_Z6_I_2_1_[1,3,5].csv\"`\n",
    "\n",
    "**list_sectors**\n",
    "\n",
    "As mentioned before the sectors to be considered are crucial to generate $N_n^{(a)}$, the number of fixed points and hence the number of features will depend on the sectors selected. The sectors must be provided in the format shown below  \n",
    "\n",
    "`list_sectors = [1,3,5]`\n",
    "\n",
    "**start**\n",
    "\n",
    "In case the routine has to be stopped the parameter start allows the program to continue from the model where the script broke. By default \n",
    "it should be left as 0.\n",
    "\n",
    "`start = 0 `\n",
    "\n",
    "**List of geometries**\n",
    "\n",
    "This routine accepts the point groups listed in this [article](https://arxiv.org/abs/1209.3906):  \n",
    "* Z3  \n",
    "* Z4 \n",
    "* Z6  \n",
    "* Z7  \n",
    "* Z8\n",
    "* Z12\n",
    "* Z2xZ2 \n",
    "* Z2xZ4\n",
    "* Z2xZ6\n",
    "* Z3XZ3 \n",
    "* Z3XZ6 \n",
    "* Z4XZ4\n",
    "\n",
    "You can access the corresponding lattices for each point group using the command \n",
    "`mks.geometries('Z12')`\n",
    "\n",
    "Once you have identified the lattice you desire to work with, you can acces the number of fixed points using\n",
    "the command\n",
    "`mks.sectors('Z12-I_1_1')`\n",
    "\n",
    "It should be pointed out that, when dealing with more than one geometry, you should select \n",
    "sectors (from each geometry) in such a way that the addition of all the fixed points matches between geometries.\n"
   ]
  },
  {
   "cell_type": "code",
   "execution_count": 1,
   "id": "7d7a2946",
   "metadata": {},
   "outputs": [],
   "source": [
    "import mks as mks"
   ]
  },
  {
   "cell_type": "code",
   "execution_count": 4,
   "id": "22c69c66",
   "metadata": {},
   "outputs": [
    {
     "data": {
      "text/plain": [
       "['Z12-I_1_1', 'Z12-I_2_1', 'Z12-II_1_1']"
      ]
     },
     "execution_count": 4,
     "metadata": {},
     "output_type": "execute_result"
    }
   ],
   "source": [
    "mks.geometries('Z12')"
   ]
  },
  {
   "cell_type": "code",
   "execution_count": 3,
   "id": "c8bbc6ef",
   "metadata": {},
   "outputs": [
    {
     "data": {
      "text/plain": [
       "{'Sector0': 1,\n",
       " 'Sector1': 4,\n",
       " 'Sector2': 10,\n",
       " 'Sector3': 4,\n",
       " 'Sector4': 6,\n",
       " 'Sector5': 4,\n",
       " 'Sector6': 10,\n",
       " 'Sector7': 4}"
      ]
     },
     "execution_count": 3,
     "metadata": {},
     "output_type": "execute_result"
    }
   ],
   "source": [
    "mks.sectors('Z12-I_1_1')"
   ]
  },
  {
   "cell_type": "code",
   "execution_count": 6,
   "id": "d0a360be",
   "metadata": {},
   "outputs": [],
   "source": [
    "# Setup these files for each geometry\n",
    "\n",
    "name_models_from_orbifolder = \"000036_models_z8I11_orbifolder_2_WL_diff.txt\"  # The file\n",
    "name_geometry = \"./Geometry/Geometry_Z8-I_1_1.txt\"\n",
    "name_dataset = \"Test.csv\"\n",
    "\n",
    "# Parameters\n",
    "\n",
    "list_sectors = [1,3,5]  # Sectors considered\n",
    "start = 0  # Num of model where the script break\n"
   ]
  },
  {
   "cell_type": "code",
   "execution_count": 7,
   "id": "988f6320",
   "metadata": {},
   "outputs": [
    {
     "name": "stdout",
     "output_type": "stream",
     "text": [
      "36 models written\r"
     ]
    }
   ],
   "source": [
    "mks.make_dataset(name_models_from_orbifolder, name_dataset, list_sectors, name_geometry, start)"
   ]
  },
  {
   "cell_type": "code",
   "execution_count": 8,
   "id": "ab661640",
   "metadata": {},
   "outputs": [
    {
     "name": "stdout",
     "output_type": "stream",
     "text": [
      "U1,N1,N2,N_1_1_1,N_1_1_2,N_1_2_1,N_1_2_2,N_1_3_1,N_1_3_2,N_1_4_1,N_1_4_2,N_2_1_1,N_2_1_2,N_2_2_1,N_2_2_2,N_2_3_1,N_2_3_2,N_2_4_1,N_2_4_2,N_3_1_1,N_3_1_2,N_3_2_1,N_3_2_2,N_3_3_1,N_3_3_2,N_3_4_1,N_3_4_2\r\n",
      "5, 22, 32, 42, 58, 42, 58, 26, 62, 26, 62, 42, 58, 42, 58, 26, 62, 26, 62, 42, 58, 42, 58, 26, 62, 26, 62\r\n",
      "5, 18, 24, 42, 58, 42, 58, 26, 62, 26, 62, 42, 58, 42, 58, 26, 62, 26, 62, 42, 58, 42, 58, 26, 62, 26, 62\r\n",
      "4, 22, 34, 42, 58, 42, 58, 26, 74, 26, 74, 42, 58, 42, 58, 26, 74, 26, 74, 42, 58, 42, 58, 26, 74, 26, 74\r\n",
      "3, 42, 34, 42, 58, 42, 58, 42, 74, 42, 74, 42, 58, 42, 58, 42, 74, 42, 74, 42, 58, 42, 58, 42, 74, 42, 74\r\n",
      "5, 18, 32, 42, 58, 42, 58, 26, 62, 26, 62, 42, 58, 42, 58, 26, 62, 26, 62, 42, 58, 42, 58, 26, 62, 26, 62\r\n",
      "5, 22, 24, 42, 58, 42, 58, 26, 62, 26, 62, 42, 58, 42, 58, 26, 62, 26, 62, 42, 58, 42, 58, 26, 62, 26, 62\r\n",
      "4, 18, 26, 42, 58, 42, 58, 26, 58, 26, 58, 42, 58, 42, 58, 26, 58, 26, 58, 42, 58, 42, 58, 26, 58, 26, 58\r\n",
      "4, 18, 26, 42, 58, 42, 58, 26, 58, 26, 58, 42, 58, 42, 58, 26, 58, 26, 58, 42, 58, 42, 58, 26, 58, 26, 58\r\n",
      "5, 30, 32, 42, 58, 42, 58, 42, 62, 42, 62, 42, 58, 42, 58, 42, 62, 42, 62, 42, 58, 42, 58, 42, 62, 42, 62\r\n"
     ]
    }
   ],
   "source": [
    "!head Test.csv"
   ]
  },
  {
   "cell_type": "markdown",
   "id": "47b08ede",
   "metadata": {},
   "source": [
    "The headders in the output file are named as followed. The first three columns are the number of U(1)'s, the global\n",
    "number of invariant roots for the first and second $E_8$. The following columns are named \n",
    "N_#1_#2_#3,\n",
    "where #1 stands for the number of the sector in the list \"list_sectors\" #2 is the number of the fixed point and #3 is to indicate which $E_8$ is considered."
   ]
  }
 ],
 "metadata": {
  "kernelspec": {
   "display_name": "Python 3 (ipykernel)",
   "language": "python",
   "name": "python3"
  },
  "language_info": {
   "codemirror_mode": {
    "name": "ipython",
    "version": 3
   },
   "file_extension": ".py",
   "mimetype": "text/x-python",
   "name": "python",
   "nbconvert_exporter": "python",
   "pygments_lexer": "ipython3",
   "version": "3.8.10"
  }
 },
 "nbformat": 4,
 "nbformat_minor": 5
}
